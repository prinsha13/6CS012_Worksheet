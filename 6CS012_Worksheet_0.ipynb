{
  "nbformat": 4,
  "nbformat_minor": 0,
  "metadata": {
    "colab": {
      "provenance": [],
      "authorship_tag": "ABX9TyNIWQ9EZGMypoemPGgKDXSP",
      "include_colab_link": true
    },
    "kernelspec": {
      "name": "python3",
      "display_name": "Python 3"
    },
    "language_info": {
      "name": "python"
    }
  },
  "cells": [
    {
      "cell_type": "markdown",
      "metadata": {
        "id": "view-in-github",
        "colab_type": "text"
      },
      "source": [
        "<a href=\"https://colab.research.google.com/github/prinsha13/6CS012_Worksheet/blob/main/6CS012_Worksheet_0.ipynb\" target=\"_parent\"><img src=\"https://colab.research.google.com/assets/colab-badge.svg\" alt=\"Open In Colab\"/></a>"
      ]
    },
    {
      "cell_type": "markdown",
      "source": [
        "#**1. Exercise on Python**"
      ],
      "metadata": {
        "id": "D3Ltiedk0_ty"
      }
    },
    {
      "cell_type": "markdown",
      "source": [
        "#Function\n",
        "##Task-01\n",
        "\n",
        "Create a Python program that converts between different units of measurement.\n",
        "• The program should:\n",
        "1. Prompt the user to choose the type of conversion (e.g., length, weight, volume).\n",
        "2. Ask the user to input the value to be converted.\n",
        "3. Perform the conversion and display the result.\n",
        "4. Handle potential errors, such as invalid input or unsupported conversion types."
      ],
      "metadata": {
        "id": "6JNNqD1x1NcX"
      }
    },
    {
      "cell_type": "code",
      "execution_count": 56,
      "metadata": {
        "colab": {
          "base_uri": "https://localhost:8080/"
        },
        "id": "zPZmDsDV0EOC",
        "outputId": "46e8dfcc-514d-4ee5-d32f-92512bfe56f6"
      },
      "outputs": [
        {
          "output_type": "stream",
          "name": "stdout",
          "text": [
            "Choose a type of conversion:\n",
            "\n",
            "1. Length \n",
            "2. Weight \n",
            "3. Volume\n",
            "Enter your choice (1/2/3): 2\n",
            "Enter the value to convert: 53\n",
            "Enter the initial unit (kg/lbs): kg\n",
            "Enter the convert unit (kg/lbs): lbs\n",
            "53.0 kg is equal to 116.84485999999998 lbs\n"
          ]
        }
      ],
      "source": [
        "def length(value, initial_unit, converted_unit):\n",
        "    if initial_unit == 'm' and converted_unit == 'ft':\n",
        "        return value * 3.28084\n",
        "    elif initial_unit == 'ft' and converted_unit == 'm':\n",
        "        return value / 3.28084\n",
        "    else:\n",
        "        return \"Invalid conversion\"\n",
        "\n",
        "def weight(value, initial_unit, converted_unit):\n",
        "    if initial_unit == 'kg' and converted_unit == 'lbs':\n",
        "        return value * 2.20462\n",
        "    elif initial_unit == 'lbs' and converted_unit == 'kg':\n",
        "        return value / 2.20462\n",
        "    else:\n",
        "        return \"Invalid conversion\"\n",
        "\n",
        "def volume(value, initial_unit, converted_unit):\n",
        "    if initial_unit == 'L' and converted_unit == 'gal':\n",
        "        return value * 0.264172\n",
        "    elif initial_unit == 'gal' and converted_unit == 'L':\n",
        "        return value / 0.264172\n",
        "    else:\n",
        "        return \"Invalid conversion\"\n",
        "\n",
        "def main():\n",
        "    print(\"Choose a type of conversion:\")\n",
        "    print(\"\\n1. Length \\n2. Weight \\n3. Volume\")\n",
        "\n",
        "    try:\n",
        "        choice = int(input(\"Enter your choice (1/2/3): \"))\n",
        "\n",
        "        if choice == 1:\n",
        "            value = float(input(\"Enter the value to convert: \"))\n",
        "            initial_unit = input(\"Enter the initial unit (m/ft): \").strip().lower()\n",
        "            converted_unit = input(\"Enter the convert unit (m/ft): \").strip().lower()\n",
        "            result = length(value, initial_unit, converted_unit)\n",
        "            print(f\"{value} {initial_unit} is equal to {result} {converted_unit}\")\n",
        "\n",
        "        elif choice == 2:\n",
        "            value = float(input(\"Enter the value to convert: \"))\n",
        "            initial_unit = input(\"Enter the initial unit (kg/lbs): \").strip().lower()\n",
        "            converted_unit = input(\"Enter the convert unit (kg/lbs): \").strip().lower()\n",
        "            result = weight(value, initial_unit, converted_unit)\n",
        "            print(f\"{value} {initial_unit} is equal to {result} {converted_unit}\")\n",
        "\n",
        "        elif choice == 3:\n",
        "            value = float(input(\"Enter the value to convert: \"))\n",
        "            initial_unit = input(\"Enter the initial unit (L/gal): \").strip()\n",
        "            converted_unit = input(\"Enter the convert unit (L/gal): \").strip()\n",
        "            result = volume(value, initial_unit, converted_unit)\n",
        "            print(f\"{value} {initial_unit} is equal to {result} {converted_unit}\")\n",
        "\n",
        "        else:\n",
        "            print(\"Invalid choice. Please select 1, 2, or 3.\")\n",
        "\n",
        "    except ValueError:\n",
        "        print(\"Invalid input. Please enter a valid number.\")\n",
        "\n",
        "main()\n"
      ]
    },
    {
      "cell_type": "markdown",
      "source": [
        "##Task - 2:\n",
        "Create a Python program that performs various mathematical operations on a list of numbers.\n",
        "\n",
        "• The Program should:\n",
        "1. Prompt the user to choose an operation (e.g., find the sum, average, maximum, or minimum of the numbers).\n",
        "2. Ask the user to input a list of numbers (separated by spaces).\n",
        "3. Perform the selected operation and display the result.\n",
        "4. Handle potential errors, such as invalid input or empty lists."
      ],
      "metadata": {
        "id": "qo1Ug-AWMSq9"
      }
    },
    {
      "cell_type": "code",
      "source": [
        "def calculate_sum(numbers):\n",
        "  return sum(numbers)\n",
        "\n",
        "def average(numbers):\n",
        "  if len(numbers) == 0:\n",
        "    return \"Invalid calculations\"\n",
        "  return sum(numbers) / len(numbers)\n",
        "\n",
        "def maximum(numbers):\n",
        "  if len(numbers) == 0:\n",
        "    return \"Invalid calculation\"\n",
        "  return max(numbers)\n",
        "\n",
        "def minimum(numbers):\n",
        "  if len(numbers) == 0:\n",
        "    return \"Invalid calculation\"\n",
        "  return min(numbers)\n",
        "\n",
        "def main():\n",
        "  print(\"Choose an operation:\")\n",
        "  print(\"\\n1. Sum \\n2. Average \\n3. Maximum \\n4. Minimum\")\n",
        "\n",
        "  try:\n",
        "    choice = int(input(\"Enter your choice (1/2/3/4): \"))\n",
        "\n",
        "    user_input = input(\"Enter the list of numbers(sperated by spaces):\")\n",
        "    numbers = list(map(float, user_input.split()))\n",
        "\n",
        "    if choice == 1:\n",
        "      result =calculate_sum(numbers)\n",
        "      print(\"The sum of the numbers is: \", result)\n",
        "    elif choice == 2:\n",
        "      result = average(numbers)\n",
        "      print(\"The average of the numbers is: \", result)\n",
        "    elif choice == 3:\n",
        "      result = maximum(numbers)\n",
        "      print(\"The maximum of the numbers is: \", result)\n",
        "    elif choice == 4:\n",
        "      result = minimum(numbers)\n",
        "      print(\"The minimum of the numbers is: \", result)\n",
        "    else:\n",
        "      return \"Invalid choice.\"\n",
        "\n",
        "  except ValueError:\n",
        "        print(\"Invalid input. Please enter a valid number.\")\n",
        "\n",
        "if __name__ == \"__main__\":\n",
        "    main()"
      ],
      "metadata": {
        "colab": {
          "base_uri": "https://localhost:8080/"
        },
        "id": "G-_xGdbb_8LI",
        "outputId": "0bab55a8-90f9-499f-cf8d-86d91a97759c"
      },
      "execution_count": 79,
      "outputs": [
        {
          "output_type": "stream",
          "name": "stdout",
          "text": [
            "Choose an operation:\n",
            "\n",
            "1. Sum \n",
            "2. Average \n",
            "3. Maximum \n",
            "4. Minimum\n",
            "Enter your choice (1/2/3/4): 1\n",
            "Enter the list of numbers(sperated by spaces):1 2 3 4 5\n",
            "The sum of the numbers is:  15.0\n"
          ]
        }
      ]
    },
    {
      "cell_type": "markdown",
      "source": [
        "##Exercise on List Manipulation:\n",
        "**1. Extract Every Other Element:**\n",
        "\n",
        "Write a Python function that extracts every other element from a list, starting from the first element."
      ],
      "metadata": {
        "id": "aPxCnXoFANSa"
      }
    },
    {
      "cell_type": "code",
      "source": [
        "def extract_every_other(lst):\n",
        "    return lst[::2]\n",
        "\n",
        "print(extract_every_other([1, 2, 3, 4, 5, 6]))"
      ],
      "metadata": {
        "colab": {
          "base_uri": "https://localhost:8080/"
        },
        "id": "Z0ZIYtPFBOYs",
        "outputId": "f6b97897-4f24-4e04-bc3c-3a1538fd3de1"
      },
      "execution_count": 58,
      "outputs": [
        {
          "output_type": "stream",
          "name": "stdout",
          "text": [
            "[1, 3, 5]\n"
          ]
        }
      ]
    },
    {
      "cell_type": "markdown",
      "source": [
        "**2. Slice a Sublist:**\n",
        "\n",
        "Write a Python function that returns a sublist from a given list, starting from a specified index and\n",
        "ending at another specified index."
      ],
      "metadata": {
        "id": "avUG1GixBcUP"
      }
    },
    {
      "cell_type": "code",
      "source": [
        "def get_sublist(lst, start, end):\n",
        "    return lst[start:end + 1]  # Include the end index by adding 1\n",
        "\n",
        "print(get_sublist([1, 2, 3, 4, 5, 6], 2, 4))\n"
      ],
      "metadata": {
        "colab": {
          "base_uri": "https://localhost:8080/"
        },
        "id": "DX-Orb2WBbHJ",
        "outputId": "080388ef-c0d2-4f67-efe5-2afe29fb01e7"
      },
      "execution_count": 59,
      "outputs": [
        {
          "output_type": "stream",
          "name": "stdout",
          "text": [
            "[3, 4, 5]\n"
          ]
        }
      ]
    },
    {
      "cell_type": "markdown",
      "source": [
        "**3. Reverse a List Using Slicing:**\n",
        "\n",
        "Write a Python function that reverses a list using slicing."
      ],
      "metadata": {
        "id": "TSc0hgvXBikW"
      }
    },
    {
      "cell_type": "code",
      "source": [
        "def reverse_list(lst):\n",
        "    return lst[::-1]  # Slice with a step of -1 to reverse the list\n",
        "\n",
        "print(reverse_list([1, 2, 3, 4, 5]))\n"
      ],
      "metadata": {
        "colab": {
          "base_uri": "https://localhost:8080/"
        },
        "id": "rzgq0qZOBnX2",
        "outputId": "7c329beb-6e46-4247-d723-b99d9a1c5ce8"
      },
      "execution_count": 60,
      "outputs": [
        {
          "output_type": "stream",
          "name": "stdout",
          "text": [
            "[5, 4, 3, 2, 1]\n"
          ]
        }
      ]
    },
    {
      "cell_type": "markdown",
      "source": [
        "**4. Remove Specific Element from a Nested List:**\n",
        "\n",
        "Write a Python function that removes all occurrences of a specific element from a nested list."
      ],
      "metadata": {
        "id": "-sCWepD1BzUC"
      }
    },
    {
      "cell_type": "code",
      "source": [
        "def remove_first_last(lst):\n",
        "    return lst[1:-1]  # Exclude the first and last elements\n",
        "\n",
        "print(remove_first_last([1, 2, 3, 4, 5]))\n"
      ],
      "metadata": {
        "colab": {
          "base_uri": "https://localhost:8080/"
        },
        "id": "f1zZO1btCCEw",
        "outputId": "d69c0d2e-6565-470f-b611-d2303cfec3b5"
      },
      "execution_count": 61,
      "outputs": [
        {
          "output_type": "stream",
          "name": "stdout",
          "text": [
            "[2, 3, 4]\n"
          ]
        }
      ]
    },
    {
      "cell_type": "markdown",
      "source": [
        "**5. Find the Maximum Element in a Nested List:**\n",
        "\n",
        "Write a Python function that finds the maximum element in a nested list (regardless of depth)."
      ],
      "metadata": {
        "id": "bxlwyhvlCJDn"
      }
    },
    {
      "cell_type": "code",
      "source": [
        "def find_max(lst):\n",
        "    max_value = float('-inf')  #Initialize with the smallest possible value\n",
        "\n",
        "    def find_max_val(sublist):\n",
        "        nonlocal max_value\n",
        "        for item in sublist:\n",
        "            if isinstance(item, list):\n",
        "                find_max_val(item)  # Recursively check the nested lists\n",
        "            else:\n",
        "                max_value = max(max_value, item)  # Update the max value\n",
        "\n",
        "    find_max_val(lst)\n",
        "    return max_value\n",
        "\n",
        "print(find_max([[1, 2], [3, [4, 5]], 6]))\n"
      ],
      "metadata": {
        "colab": {
          "base_uri": "https://localhost:8080/"
        },
        "id": "msEyuADaCTEc",
        "outputId": "ee1bd31d-3cfe-4891-f58a-171d13cf5e9e"
      },
      "execution_count": 62,
      "outputs": [
        {
          "output_type": "stream",
          "name": "stdout",
          "text": [
            "6\n"
          ]
        }
      ]
    },
    {
      "cell_type": "markdown",
      "source": [
        "**6. Count Occurrences of an Element in a Nested List:**\n",
        "\n",
        "Write a Python function that counts how many times a specific element appears in a nested list."
      ],
      "metadata": {
        "id": "spglw9lVDyNA"
      }
    },
    {
      "cell_type": "code",
      "source": [
        "def count_occurrences(lst, elem):\n",
        "    count = 0\n",
        "    for sublist in lst:\n",
        "        count += sublist.count(elem)  # Count the occurrences in each sublist\n",
        "    return count\n",
        "lst = [[1, 2], [2, 3], [2, 4]]\n",
        "print(count_occurrences(lst, 2))\n"
      ],
      "metadata": {
        "colab": {
          "base_uri": "https://localhost:8080/"
        },
        "id": "qY92BCrwGc19",
        "outputId": "420f3af5-748c-4f84-c74c-4a435fc287c7"
      },
      "execution_count": 63,
      "outputs": [
        {
          "output_type": "stream",
          "name": "stdout",
          "text": [
            "3\n"
          ]
        }
      ]
    },
    {
      "cell_type": "markdown",
      "source": [
        "**7. Flatten a List of Lists of Lists:**\n",
        "\n",
        "Write a Python function that flattens a list of lists of lists into a single list, regardless of the depth."
      ],
      "metadata": {
        "id": "KIqb7eAFD_kz"
      }
    },
    {
      "cell_type": "code",
      "source": [
        "def deep_flatten(lst):\n",
        "  flat_list = []\n",
        "  for item in lst:\n",
        "    if isinstance(item, list):  #If the item is a list, call deep_flatten\n",
        "      flat_list.extend(deep_flatten(item))\n",
        "    else:   #If it's not a list, add it to the result\n",
        "      flat_list.append(item)\n",
        "  return flat_list\n",
        "\n",
        "print(deep_flatten([[[1,2], [3,4]], [[5,6], [7, 8]]]))"
      ],
      "metadata": {
        "colab": {
          "base_uri": "https://localhost:8080/"
        },
        "id": "jQdxUP2eEQlQ",
        "outputId": "417d0a2e-cae4-4859-e72f-eb0f91157c3f"
      },
      "execution_count": 64,
      "outputs": [
        {
          "output_type": "stream",
          "name": "stdout",
          "text": [
            "[1, 2, 3, 4, 5, 6, 7, 8]\n"
          ]
        }
      ]
    },
    {
      "cell_type": "markdown",
      "source": [
        "**8. Nested List Average:**\n",
        "\n",
        "Write a Python function that calculates the average of all elements in a nested list."
      ],
      "metadata": {
        "id": "oPNfC-jLED9v"
      }
    },
    {
      "cell_type": "code",
      "source": [
        "def average_nested(lst):\n",
        "  total = 0\n",
        "  count = 0\n",
        "\n",
        "  for sublist in lst:\n",
        "    total += sum(sublist) #add sum fo elements in sublist\n",
        "    count += len(sublist) #Count the number of element in the sublist\n",
        "  return total/count #Calculate the average\n",
        "\n",
        "print(average_nested([[1,2,3], [4,5,6]]))"
      ],
      "metadata": {
        "colab": {
          "base_uri": "https://localhost:8080/"
        },
        "id": "yQoFfOmYFI5e",
        "outputId": "cc8defdd-378e-426b-9972-21b5ad3e021d"
      },
      "execution_count": 65,
      "outputs": [
        {
          "output_type": "stream",
          "name": "stdout",
          "text": [
            "3.5\n"
          ]
        }
      ]
    },
    {
      "cell_type": "markdown",
      "source": [
        "#**2. Exercise on Numpy**\n",
        "##Basic Vector and Matrix Operation with Numpy.\n",
        "\n",
        "\n"
      ],
      "metadata": {
        "id": "mIXSYv0KHPB5"
      }
    },
    {
      "cell_type": "markdown",
      "source": [
        "**Problem-1: Array Creation**"
      ],
      "metadata": {
        "id": "l66HCEy_HpPl"
      }
    },
    {
      "cell_type": "code",
      "source": [
        "import numpy as np"
      ],
      "metadata": {
        "id": "re6xflbzHxRa"
      },
      "execution_count": 66,
      "outputs": []
    },
    {
      "cell_type": "code",
      "source": [
        "# 1. Initialize an empty array with size 2x2\n",
        "empty_array = np.empty((2, 2))\n",
        "print(\"1. Empty Array:\\n\", empty_array)\n",
        "\n",
        "# 2. Initialize an all-one array with size 4x2\n",
        "ones_array = np.ones((4, 2))\n",
        "print(\"\\n2. All-Ones Array:\\n\", ones_array)\n",
        "\n",
        "# 3. Return a new array of given shape and type, filled with fill value\n",
        "new_array = np.full((3, 3), 7)\n",
        "print(\"\\n3. Full Array with fill value 7:\\n\", new_array)\n",
        "\n",
        "# 4. Return a new array of zeros with the same shape and type as a given array\n",
        "given_array = np.array([[1, 2, 3], [4, 5, 6]])\n",
        "new_zeros_array = np.zeros_like(given_array)\n",
        "print(\"\\n4. Zeros Like Array:\\n\", new_zeros_array)\n",
        "\n",
        "# 5. Return a new array of ones with the same shape and type as a given array\n",
        "new_ones_array = np.ones_like(given_array)\n",
        "print(\"\\n5. Ones Like Array:\\n\", new_ones_array)\n",
        "\n",
        "# 6. Convert an existing list to a NumPy array\n",
        "new_list = [1, 2, 3, 4]\n",
        "numpy_array = np.array(new_list)\n",
        "print(\"\\n6. Converted NumPy Array:\\n\", numpy_array)\n"
      ],
      "metadata": {
        "colab": {
          "base_uri": "https://localhost:8080/"
        },
        "id": "yo2ULeeTIPY-",
        "outputId": "a42cae39-159b-4aa8-ff13-b88dddd74d0a"
      },
      "execution_count": 67,
      "outputs": [
        {
          "output_type": "stream",
          "name": "stdout",
          "text": [
            "1. Empty Array:\n",
            " [[1.00000000e+00 0.00000000e+00]\n",
            " [1.77635684e-15 1.00000000e+00]]\n",
            "\n",
            "2. All-Ones Array:\n",
            " [[1. 1.]\n",
            " [1. 1.]\n",
            " [1. 1.]\n",
            " [1. 1.]]\n",
            "\n",
            "3. Full Array with fill value 7:\n",
            " [[7 7 7]\n",
            " [7 7 7]\n",
            " [7 7 7]]\n",
            "\n",
            "4. Zeros Like Array:\n",
            " [[0 0 0]\n",
            " [0 0 0]]\n",
            "\n",
            "5. Ones Like Array:\n",
            " [[1 1 1]\n",
            " [1 1 1]]\n",
            "\n",
            "6. Converted NumPy Array:\n",
            " [1 2 3 4]\n"
          ]
        }
      ]
    },
    {
      "cell_type": "markdown",
      "source": [
        "**Problem - 2: Array Manipulation: Numerical Ranges and Array indexing:**"
      ],
      "metadata": {
        "id": "BffmYbpkJQy6"
      }
    },
    {
      "cell_type": "code",
      "source": [
        "# 1. Create an array with values ranging from 10 to 49.\n",
        "array_range = np.arange(10, 50)\n",
        "print(\"1. Array with values ranging from 10 to 49:\\n\", array_range)\n",
        "\n",
        "# 2. Create a 3X3 matrix with values ranging from 0 to 8.\n",
        "matrix = np.arange(9).reshape(3, 3)\n",
        "print(\"\\n2. 3x3 Matrix with values ranging from 0 to 8:\\n\", matrix)\n",
        "\n",
        "# 3. Create a 3X3 identity matrix.\n",
        "identity_matrix = np.eye(3)\n",
        "print(\"\\n3. 3x3 Identity Matrix:\\n\", identity_matrix)\n",
        "\n",
        "# 4. Create a random array of size 30 and find the mean of the array.\n",
        "random_array = np.random.rand(30)\n",
        "mean_value = np.mean(random_array)\n",
        "print(\"\\n4. Random Array:\\n\", random_array)\n",
        "print(\"\\nMean of the array:\", mean_value)\n",
        "\n",
        "# 5. Create a 10X10 array with random values and find the minimum and maximum values.\n",
        "random_matrix = np.random.rand(10, 10)\n",
        "min_value = np.min(random_matrix)\n",
        "max_value = np.max(random_matrix)\n",
        "print(\"\\n5. Random 10x10 Matrix:\\n\", random_matrix)\n",
        "print(\"\\nMinimum value:\", min_value)\n",
        "print(\"\\nMaximum value:\", max_value)\n",
        "\n",
        "# 6. Create a zero array of size 10 and replace 5th element with 1.\n",
        "zero_array = np.zeros(10)\n",
        "zero_array[4] = 1\n",
        "print(\"\\n6. Zero array with replaced 5th element with 1:\\n\", zero_array)\n",
        "\n",
        "# 7. Reverse an array arr = [1,2,0,0,4,0].\n",
        "arr = np.array([1, 2, 0, 0, 4, 0])\n",
        "reversed_arr = arr[::-1]\n",
        "print(\"\\n7. Reversed Array:\", reversed_arr)\n",
        "\n",
        "# 8. Create a 2d array with 1 on border and 0 inside.\n",
        "arr_2d = np.ones((5, 5))\n",
        "arr_2d[1:-1, 1:-1] = 0\n",
        "print(\"\\n8. 2D array with 1 on border and 0 inside:\\n\", arr_2d)\n",
        "\n",
        "# 9. Create a 8X8 matrix and fill it with a checkerboard pattern.\n",
        "checkerboard = np.zeros((8, 8), dtype=int)\n",
        "checkerboard[1::2, ::2] = 1\n",
        "checkerboard[::2, 1::2] = 1\n",
        "print(\"\\n9. Checkerborad pattern:\\n\", checkerboard)"
      ],
      "metadata": {
        "colab": {
          "base_uri": "https://localhost:8080/"
        },
        "id": "KfpyYbRWJZ64",
        "outputId": "29442538-fec5-42fc-a8c4-18b987180b81"
      },
      "execution_count": 68,
      "outputs": [
        {
          "output_type": "stream",
          "name": "stdout",
          "text": [
            "1. Array with values ranging from 10 to 49:\n",
            " [10 11 12 13 14 15 16 17 18 19 20 21 22 23 24 25 26 27 28 29 30 31 32 33\n",
            " 34 35 36 37 38 39 40 41 42 43 44 45 46 47 48 49]\n",
            "\n",
            "2. 3x3 Matrix with values ranging from 0 to 8:\n",
            " [[0 1 2]\n",
            " [3 4 5]\n",
            " [6 7 8]]\n",
            "\n",
            "3. 3x3 Identity Matrix:\n",
            " [[1. 0. 0.]\n",
            " [0. 1. 0.]\n",
            " [0. 0. 1.]]\n",
            "\n",
            "4. Random Array:\n",
            " [0.95722732 0.29955111 0.93731481 0.65316227 0.967308   0.83673826\n",
            " 0.54453989 0.29289466 0.8221682  0.93317269 0.66139221 0.63772497\n",
            " 0.82650012 0.21880276 0.01376483 0.89509844 0.49555434 0.63100331\n",
            " 0.50708384 0.11580151 0.21406159 0.33483786 0.1640733  0.15936396\n",
            " 0.95473757 0.16010571 0.35058151 0.01776287 0.12168201 0.60692699]\n",
            "\n",
            "Mean of the array: 0.5110312306401861\n",
            "\n",
            "5. Random 10x10 Matrix:\n",
            " [[0.64239018 0.97125876 0.83643317 0.23093007 0.5900938  0.69241293\n",
            "  0.79852584 0.84841043 0.0991927  0.84145026]\n",
            " [0.56383424 0.15768378 0.29418744 0.86900935 0.64344869 0.92340932\n",
            "  0.04707554 0.45654528 0.63759623 0.58146529]\n",
            " [0.88441812 0.6249884  0.2686166  0.70835683 0.00933107 0.24137412\n",
            "  0.10881971 0.13472584 0.63201343 0.94024925]\n",
            " [0.83282095 0.50928068 0.90770787 0.65102913 0.34224276 0.39008515\n",
            "  0.99153412 0.33860908 0.35753088 0.33817333]\n",
            " [0.24641563 0.19102739 0.93033213 0.62048278 0.32673479 0.72477534\n",
            "  0.5616126  0.3641158  0.30624121 0.65775105]\n",
            " [0.56499633 0.65394733 0.00260052 0.24786438 0.34197322 0.22496954\n",
            "  0.85269356 0.06497714 0.4901161  0.60829434]\n",
            " [0.92667485 0.04026534 0.30037136 0.24721803 0.8558226  0.74324515\n",
            "  0.44256513 0.6797879  0.8436226  0.01967455]\n",
            " [0.58334687 0.56671661 0.12055678 0.82487328 0.69694456 0.20748798\n",
            "  0.48468254 0.56963862 0.36153886 0.68050062]\n",
            " [0.69809726 0.20348193 0.97590978 0.20215033 0.27013704 0.00951345\n",
            "  0.63833088 0.63070792 0.37510662 0.50936053]\n",
            " [0.79944573 0.89829692 0.22448561 0.07945908 0.73261896 0.83809015\n",
            "  0.59703091 0.86353314 0.84587376 0.28182266]]\n",
            "\n",
            "Minimum value: 0.0026005227144756393\n",
            "\n",
            "Maximum value: 0.9915341212129628\n",
            "\n",
            "6. Zero array with replaced 5th element with 1:\n",
            " [0. 0. 0. 0. 1. 0. 0. 0. 0. 0.]\n",
            "\n",
            "7. Reversed Array: [0 4 0 0 2 1]\n",
            "\n",
            "8. 2D array with 1 on border and 0 inside:\n",
            " [[1. 1. 1. 1. 1.]\n",
            " [1. 0. 0. 0. 1.]\n",
            " [1. 0. 0. 0. 1.]\n",
            " [1. 0. 0. 0. 1.]\n",
            " [1. 1. 1. 1. 1.]]\n",
            "\n",
            "9. Checkerborad pattern:\n",
            " [[0 1 0 1 0 1 0 1]\n",
            " [1 0 1 0 1 0 1 0]\n",
            " [0 1 0 1 0 1 0 1]\n",
            " [1 0 1 0 1 0 1 0]\n",
            " [0 1 0 1 0 1 0 1]\n",
            " [1 0 1 0 1 0 1 0]\n",
            " [0 1 0 1 0 1 0 1]\n",
            " [1 0 1 0 1 0 1 0]]\n"
          ]
        }
      ]
    },
    {
      "cell_type": "markdown",
      "source": [
        "**Problem - 3: Array Operations:**\n",
        "\n",
        "For the following arrays:\n",
        "\n",
        "x = np.array([[1,2],[3,5]]) and y = np.array([[5,6],[7,8]]);\n",
        "\n",
        "v = np.array([9,10]) and w = np.array([11,12]);\n",
        "\n",
        "Complete all the task using numpy.\n"
      ],
      "metadata": {
        "id": "DXuAazSMLLtQ"
      }
    },
    {
      "cell_type": "code",
      "source": [
        "# Given arrays\n",
        "x = np.array([[1, 2], [3, 5]])\n",
        "y = np.array([[5, 6], [7, 8]])\n",
        "v = np.array([9, 10])\n",
        "w = np.array([11, 12])\n",
        "\n",
        "# 1. Add the two array.\n",
        "add_xy = x+y\n",
        "print(\"1. Addition of x and y:\\n\", add_xy)\n",
        "\n",
        "# 2. Subtract the two array.\n",
        "sub_vw = v-w\n",
        "print(\"\\n2. Subtraction of v and w:\\n\", sub_vw)\n",
        "\n",
        "# 3. Multiply the array with any integers of your choice.\n",
        "multiply_x = x * 7\n",
        "print(\"\\n3. Multiplication of x with 7:\\n\", multiply_x)\n",
        "\n",
        "# 4. Find the square of each element of the array.\n",
        "square_y = np.square(y)\n",
        "print(\"\\n4. Square of y:\\n\", square_y)\n",
        "\n",
        "# 5. Find the dot product between: v(and)w ; x(and)v ; x(and)y.\n",
        "dot_vw = np.dot(v, w)  #Dot product of v and w\n",
        "dot_xv = np.dot(x, v)  #Dot product of x and v\n",
        "dot_xy = np.dot(x, y)  #Dot product of x and y\n",
        "\n",
        "print(\"\\n5. Dot product of v and w:\", dot_vw)\n",
        "print(\"Dot product of x and v:\\n\", dot_xv)\n",
        "print(\"Dot product of x and y:\\n\", dot_xy)\n",
        "\n",
        "# 6. Concatenate x(and)y along row and Concatenate v(and)w along column.\n",
        "concat_xy = np.concatenate((x, y), axis=0) #Row\n",
        "concat_vw = np.vstack((v, w)) #Column\n",
        "print(\"\\n6. Concatenated x and y along row:\\n\", concat_xy)\n",
        "print(\"Concatenated v and w along column:\\n\", concat_vw)\n",
        "\n",
        "# 7. Concatenate x(and)v\n",
        "try:\n",
        "    concat_xv = np.concatenate((x, v), axis=0)  # Attempting to concatenate along rows\n",
        "except ValueError as e:\n",
        "    print(\"\\nError in concatenating x and v:\", e)"
      ],
      "metadata": {
        "colab": {
          "base_uri": "https://localhost:8080/"
        },
        "id": "o9Fwrrt1LK_b",
        "outputId": "4c25344a-7c30-4db1-bfa4-b8fff910b764"
      },
      "execution_count": 69,
      "outputs": [
        {
          "output_type": "stream",
          "name": "stdout",
          "text": [
            "1. Addition of x and y:\n",
            " [[ 6  8]\n",
            " [10 13]]\n",
            "\n",
            "2. Subtraction of v and w:\n",
            " [-2 -2]\n",
            "\n",
            "3. Multiplication of x with 7:\n",
            " [[ 7 14]\n",
            " [21 35]]\n",
            "\n",
            "4. Square of y:\n",
            " [[25 36]\n",
            " [49 64]]\n",
            "\n",
            "5. Dot product of v and w: 219\n",
            "Dot product of x and v:\n",
            " [29 77]\n",
            "Dot product of x and y:\n",
            " [[19 22]\n",
            " [50 58]]\n",
            "\n",
            "6. Concatenated x and y along row:\n",
            " [[1 2]\n",
            " [3 5]\n",
            " [5 6]\n",
            " [7 8]]\n",
            "Concatenated v and w along column:\n",
            " [[ 9 10]\n",
            " [11 12]]\n",
            "\n",
            "Error in concatenating x and v: all the input arrays must have same number of dimensions, but the array at index 0 has 2 dimension(s) and the array at index 1 has 1 dimension(s)\n"
          ]
        }
      ]
    },
    {
      "cell_type": "markdown",
      "source": [
        "Explantion for the error in question 7:\n",
        "\n",
        "The given matrix is 'x' is a 2D matrix and 'v' is a 1D array, when trying to concatenated these array both the arrays must have the same number of columns. However, in this case matrix 'v' is a 1D array whch does not have the same structure as the matrix 'x' hence resulting in an error."
      ],
      "metadata": {
        "id": "bh0QcpayNPqG"
      }
    },
    {
      "cell_type": "markdown",
      "source": [
        "**Problem - 4: Matrix Operations:**\n",
        "\n",
        "• For the following arrays:\n",
        "\n",
        "A = np.array([[3,4],[7,8]]) and B = np.array([[5,3],[2,1]]);\n",
        "\n",
        "Prove following with Numpy:\n",
        "1. Prove A.A^−1 = I.\n",
        "2. Prove AB ̸= BA.\n",
        "3. Prove (AB)^T = B^TA^T"
      ],
      "metadata": {
        "id": "ps6ki6sbOg7E"
      }
    },
    {
      "cell_type": "code",
      "source": [
        "# 1. Prove A.A^−1 = I.\n",
        "A = np.array([[3, 4], [7,8]])\n",
        "A_inverse = np.linalg.inv(A)\n",
        "identity_matrix = np.dot(A, A_inverse)\n",
        "print(\"1. A.A^−1 = I:\\n\", identity_matrix)"
      ],
      "metadata": {
        "colab": {
          "base_uri": "https://localhost:8080/"
        },
        "id": "4MltxvVXPJr0",
        "outputId": "578fb35c-df8c-4ac3-ab00-8010d2d675ae"
      },
      "execution_count": 70,
      "outputs": [
        {
          "output_type": "stream",
          "name": "stdout",
          "text": [
            "1. A.A^−1 = I:\n",
            " [[1.00000000e+00 0.00000000e+00]\n",
            " [1.77635684e-15 1.00000000e+00]]\n"
          ]
        }
      ]
    },
    {
      "cell_type": "code",
      "source": [
        "# 2. Prove AB ̸= BA.\n",
        "A = np.array([[3, 4], [7, 8]])\n",
        "B = np.array([[5, 3], [2, 1]])\n",
        "AB = np.dot(A, B)\n",
        "BA = np.dot(B, A)\n",
        "\n",
        "print(\"AB: \\n\", AB)\n",
        "print(\"BA: \\n\", BA)\n",
        "\n",
        "#Check if AB is equal to BA\n",
        "print(\"\\nIs AB = BA?\", np.array_equal(AB, BA))"
      ],
      "metadata": {
        "colab": {
          "base_uri": "https://localhost:8080/"
        },
        "id": "uzQoztU1QAA_",
        "outputId": "9589719c-9a7b-428a-fa3f-2cb3b7a1cc5d"
      },
      "execution_count": 71,
      "outputs": [
        {
          "output_type": "stream",
          "name": "stdout",
          "text": [
            "AB: \n",
            " [[23 13]\n",
            " [51 29]]\n",
            "BA: \n",
            " [[36 44]\n",
            " [13 16]]\n",
            "\n",
            "Is AB = BA? False\n"
          ]
        }
      ]
    },
    {
      "cell_type": "code",
      "source": [
        "#3. Prove (AB)^T = B^TA^T\n",
        "AB_T = np.transpose(AB) #Transpose of Ab\n",
        "\n",
        "# Compute B^T * A^T\n",
        "B_T = np.transpose(B)\n",
        "A_T = np.transpose(A)\n",
        "BT_AT = np.dot(B_T, A_T)\n",
        "\n",
        "print(\"(AB)^T:\\n\", AB_T)\n",
        "print(\"\\nB^T * A^T:\\n\", BT_AT)\n",
        "\n",
        "# Check if they are equal\n",
        "print(\"\\nIs (AB)^T = B^T * A^T?\", np.array_equal(AB_T, BT_AT))\n"
      ],
      "metadata": {
        "colab": {
          "base_uri": "https://localhost:8080/"
        },
        "id": "qBZ0-zixQiSB",
        "outputId": "47c75835-d087-4ce6-ca8c-c55670b5ba03"
      },
      "execution_count": 72,
      "outputs": [
        {
          "output_type": "stream",
          "name": "stdout",
          "text": [
            "(AB)^T:\n",
            " [[23 51]\n",
            " [13 29]]\n",
            "\n",
            "B^T * A^T:\n",
            " [[23 51]\n",
            " [13 29]]\n",
            "\n",
            "Is (AB)^T = B^T * A^T? True\n"
          ]
        }
      ]
    },
    {
      "cell_type": "markdown",
      "source": [
        "• Solve the following system of Linear equation using Inverse Methods.\n",
        "\n",
        "2x − 3y + z = −1\n",
        "\n",
        "x − y + 2z = −3\n",
        "\n",
        "3x + y − z = 9"
      ],
      "metadata": {
        "id": "eSYTwFXSRpRY"
      }
    },
    {
      "cell_type": "code",
      "source": [
        "#Converting the equation into matirx and defining them as array\n",
        "#Matrix A\n",
        "A = np.array([[2, -3, 1],\n",
        "              [1, -1, 2],\n",
        "              [3, 1, -1]])\n",
        "B = np.array([-1, -3, 9]) #Matrix B\n",
        "A_inv = np.linalg.inv(A) #Inverse of A\n",
        "X = np.dot(A_inv, B) #Calculate X\n",
        "print(\"x, y, z:\", X)"
      ],
      "metadata": {
        "colab": {
          "base_uri": "https://localhost:8080/"
        },
        "id": "7yu6R3Q4Rqll",
        "outputId": "756b7101-c74b-4cec-fb0f-7dbce1ba03c9"
      },
      "execution_count": 73,
      "outputs": [
        {
          "output_type": "stream",
          "name": "stdout",
          "text": [
            "x, y, z: [ 2.  1. -2.]\n"
          ]
        }
      ]
    },
    {
      "cell_type": "markdown",
      "source": [
        "##Experiment: How Fast is Numpy?\n",
        "1. Element-wise Addition"
      ],
      "metadata": {
        "id": "Q0fOb-bOTCk0"
      }
    },
    {
      "cell_type": "code",
      "source": [
        "import time\n",
        "size = 1000000"
      ],
      "metadata": {
        "id": "pEDH8jElTIlr"
      },
      "execution_count": 74,
      "outputs": []
    },
    {
      "cell_type": "code",
      "source": [
        "#Python lists\n",
        "list1 = list(range(size))\n",
        "list2 = list(range(size))\n",
        "\n",
        "start = time.time()\n",
        "list_addition = [list1[i] + list2[i] for i in range(size)]\n",
        "end = time.time()\n",
        "print(\"Python List Addition Time:\", end - start)\n",
        "\n",
        "# Numpy Arrays\n",
        "array1 = np.arange(size)\n",
        "array2 = np.arange(size)\n",
        "\n",
        "start = time.time()\n",
        "array_addition = array1 + array2\n",
        "end = time.time()\n",
        "print(\"NumPy Array Addition Time:\", end - start)"
      ],
      "metadata": {
        "colab": {
          "base_uri": "https://localhost:8080/"
        },
        "id": "fzieFpVDT1w9",
        "outputId": "c3b8b14d-5d1a-4477-9529-28a7e88f5f87"
      },
      "execution_count": 75,
      "outputs": [
        {
          "output_type": "stream",
          "name": "stdout",
          "text": [
            "Python List Addition Time: 0.15102076530456543\n",
            "NumPy Array Addition Time: 0.005702972412109375\n"
          ]
        }
      ]
    },
    {
      "cell_type": "markdown",
      "source": [
        "2. Element-wise Multiplication\n"
      ],
      "metadata": {
        "id": "ctW3RRhAVOzb"
      }
    },
    {
      "cell_type": "code",
      "source": [
        "#Python Lists\n",
        "start = time.time()\n",
        "list_multiplication = [list1[i] * list2[i] for i in range(size)]\n",
        "end = time.time()\n",
        "print(\"Python List Multiplication Time:\", end - start)\n",
        "\n",
        "#Numpy Arrays\n",
        "start = time.time()\n",
        "array_multiplication = array1 * array2\n",
        "end = time.time()\n",
        "print(\"NumPy Array Multiplication Time:\", end - start)"
      ],
      "metadata": {
        "colab": {
          "base_uri": "https://localhost:8080/"
        },
        "id": "TJdVdg5zVSs7",
        "outputId": "61e42a2d-dc6d-4d73-882b-d2ea61a87e21"
      },
      "execution_count": 76,
      "outputs": [
        {
          "output_type": "stream",
          "name": "stdout",
          "text": [
            "Python List Multiplication Time: 0.18756651878356934\n",
            "NumPy Array Multiplication Time: 0.005062580108642578\n"
          ]
        }
      ]
    },
    {
      "cell_type": "markdown",
      "source": [
        "3. Dot Product"
      ],
      "metadata": {
        "id": "-KHMBkahVXk9"
      }
    },
    {
      "cell_type": "code",
      "source": [
        "#Python Lists\n",
        "start = time.time()\n",
        "list_dot_product = sum(list1[i] * list2[i] for i in range(size))\n",
        "end = time.time()\n",
        "print(\"Python List Dot Product Time:\", end - start)\n",
        "\n",
        "#Numpy Arrays\n",
        "start = time.time()\n",
        "array_dot_product = np.dot(array1, array2)\n",
        "end = time.time()\n",
        "print(\"NumPy Array Dot Product Time:\", end - start)"
      ],
      "metadata": {
        "colab": {
          "base_uri": "https://localhost:8080/"
        },
        "id": "czHkTW57Vhyj",
        "outputId": "7399474f-5c77-4ad2-d9a9-e4152e08378d"
      },
      "execution_count": 77,
      "outputs": [
        {
          "output_type": "stream",
          "name": "stdout",
          "text": [
            "Python List Dot Product Time: 0.2202131748199463\n",
            "NumPy Array Dot Product Time: 0.0022499561309814453\n"
          ]
        }
      ]
    },
    {
      "cell_type": "markdown",
      "source": [
        "4. Matrix Multiplication"
      ],
      "metadata": {
        "id": "SXMg1tMxVvFG"
      }
    },
    {
      "cell_type": "code",
      "source": [
        "matrix_size= 1000\n",
        "#Python Lists\n",
        "matrix1 = [[i for i in range(matrix_size)] for j in range(matrix_size)]\n",
        "matrix2 = [[i for i in range(matrix_size)] for j in range(matrix_size)]\n",
        "\n",
        "start = time.time()\n",
        "result_matrix = [[sum(matrix1[i][k] * matrix2[k][j] for k in range(matrix_size)) for j in range(matrix_size)] for i in range(matrix_size)]\n",
        "end = time.time()\n",
        "print(\"Python List Matrix Multiplication Time:\", end - start)\n",
        "\n",
        "#Numpy Arrays\n",
        "np_matrix1 = np.arange(matrix_size ** 2).reshape(matrix_size, matrix_size)\n",
        "np_matrix2 = np.arange(matrix_size ** 2).reshape(matrix_size, matrix_size)\n",
        "\n",
        "start = time.time()\n",
        "np_result_matrix = np.dot(np_matrix1, np_matrix2)\n",
        "end = time.time()\n",
        "print(\"NumPy Matrix Multiplication Time:\", end - start)"
      ],
      "metadata": {
        "colab": {
          "base_uri": "https://localhost:8080/"
        },
        "id": "QWGe4xiXVxap",
        "outputId": "fd40468f-a00a-4d82-c57c-fc6556c40e21"
      },
      "execution_count": 78,
      "outputs": [
        {
          "output_type": "stream",
          "name": "stdout",
          "text": [
            "Python List Matrix Multiplication Time: 192.9209017753601\n",
            "NumPy Matrix Multiplication Time: 2.640974760055542\n"
          ]
        }
      ]
    }
  ]
}